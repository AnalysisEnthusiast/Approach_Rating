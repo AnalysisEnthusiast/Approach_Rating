{
 "cells": [
  {
   "cell_type": "code",
   "execution_count": 31,
   "metadata": {},
   "outputs": [
    {
     "name": "stdout",
     "output_type": "stream",
     "text": [
      "955.1     22\n",
      "954.9     14\n",
      "954.7     10\n",
      "984.9     10\n",
      "954.8     10\n",
      "          ..\n",
      "4456.5     1\n",
      "3569.1     1\n",
      "2477.4     1\n",
      "1535.8     1\n",
      "944.0      1\n",
      "Name:   AltMSL, Length: 3657, dtype: int64\n"
     ]
    }
   ],
   "source": [
    "#load all necessary libraries\n",
    "import pandas as pd \n",
    "import numpy as np \n",
    "import scipy as scp\n",
    "import sklearn\n",
    "\n",
    "from sklearn.model_selection import train_test_split\n",
    "from sklearn.linear_model import LogisticRegression\n",
    "from sklearn.metrics import classification_report\n",
    "from sklearn import metrics \n",
    "from sklearn.metrics import confusion_matrix\n",
    "\n",
    "import matplotlib.pyplot as plt\n",
    "import csv\n",
    "\n",
    "\n",
    "import statsmodels.api as sm\n",
    "\n",
    "\n",
    "df = pd.read_csv('log_190405_120032_KSWO.csv',header=2)\n",
    "df = df.apply(pd.to_numeric, errors='coerce')\n",
    "#df.head(10)\n",
    "#df.columns\n",
    "#df.info()\n",
    "#df.describe()\n",
    "#%matplotlib inline\n",
    "#import matplotlib.pylab as plt\n",
    "#plt.figure(figsize=(15,8)) \n",
    "#plt.plot(df['     Latitude'],df['    Longitude'])\n",
    "#plt.show()\n",
    "#import matplotlib.pylab as plt\n",
    "#plt.figure(figsize=(15,8)) \n",
    "#plt.plot(df['     Latitude'],df['    Longitude'])\n",
    "#read the dataset\n",
    "#note that the csv file is space delimited\n",
    "#abalone_df = pd.read_csv('log_190405_120032_KSWO.csv',  delimiter=' ') \n",
    "#balone_df.head()\n",
    "\n",
    "\n",
    "\n",
    "AltMSL=df['  AltMSL'].value_counts()\n",
    "GndSpd=df[' GndSpd'].value_counts()\n",
    "IAS=df['    IAS'].value_counts()\n",
    "VSpd=df['    VSpd'].value_counts()\n",
    "Pitch=df['  Pitch'].value_counts()\n",
    "\n",
    "y=[]\n",
    "\n",
    "\n",
    "for i in range(len(df['  AltMSL'])):\n",
    "    if i<=1711:\n",
    "        y.append('NT')\n",
    "        #print(i,y[i])\n",
    "        \n",
    "    elif 1711<i<=2081: #and i<2800:\n",
    "        y.append('MN')\n",
    "        #print(i,y[i])\n",
    "    elif 2081<i<=2953:\n",
    "        y.append('NT')\n",
    "    #elif i<2287:\n",
    "        #y.append('MN')\n",
    "    elif 2953<i<=3218:\n",
    "        y.append('MN')\n",
    "    elif 3218<i<=3431:\n",
    "        y.append('NT')    \n",
    "    elif 3431<i<=3559:\n",
    "        y.append('MN') \n",
    "    elif 3559<i<=3706:\n",
    "        y.append('NT')\n",
    "    elif 3706<i<=3782:\n",
    "        y.append('MN') \n",
    "    elif 3782<i<=3908:\n",
    "        y.append('NT')  \n",
    "    elif 3908<i<=4024:\n",
    "        y.append('MN') \n",
    "    elif 4024<i<=4156:\n",
    "        y.append('NT') \n",
    "    elif 4156<i<=4248:\n",
    "        y.append('MN') \n",
    "    elif 4248<i<=4358:\n",
    "        y.append('NT')\n",
    "    else:\n",
    "        y.append('LD')\n",
    "#Phases=y.value_counts()        \n",
    "        \n",
    "print(AltMSL)\n",
    "#print(GndSpd)\n",
    "#print(VSpd)\n",
    "#print(Pitch)\n",
    "#print(y)"
   ]
  },
  {
   "cell_type": "code",
   "execution_count": 32,
   "metadata": {},
   "outputs": [
    {
     "name": "stdout",
     "output_type": "stream",
     "text": [
      "['  AltMSL', '    IAS', ' GndSpd', '    VSpd', '  Pitch']\n"
     ]
    }
   ],
   "source": [
    "#Create training and test datasets\n",
    "#CLASS was recoded into SIZE_CLASS to change from string to integer\n",
    "#CLASS needs to be dropped\n",
    "X = df.drop(['  Lcl Date',' Lcl Time',' UTCOfst',' AtvWpt','     Latitude','    Longitude','    AltB',' BaroA','   OAT','   Roll','  LatAc',' NormAc','   HDG','   TRK',' volt1',' volt2','  amp1','  amp2','  FQtyL','  FQtyR',' E1 FFlow',' E1 OilT',' E1 OilP',' E1 RPM',' E1 CHT1',' E1 CHT2',' E1 CHT3',' E1 CHT4',' E1 EGT1',' E1 EGT2',' E1 EGT3',' E1 EGT4','  AltGPS',' TAS',' HSIS','    CRS','   NAV1','   NAV2','    COM1','    COM2','   HCDI','   VCDI',' WndSpd',' WndDr',' WptDst',' WptBrg',' MagVar',' AfcsOn',' RollM',' PitchM',' RollC',' PichC',' VSpdG',' GPSfix','  HAL','   VAL',' HPLwas',' HPLfd',' VPLwas'], axis=1) \n",
    "print(list(X.columns.values)) \n"
   ]
  },
  {
   "cell_type": "code",
   "execution_count": 33,
   "metadata": {},
   "outputs": [],
   "source": [
    "#len(df['  AltMSL'])"
   ]
  },
  {
   "cell_type": "code",
   "execution_count": 34,
   "metadata": {},
   "outputs": [
    {
     "name": "stdout",
     "output_type": "stream",
     "text": [
      "(3720, 5)\n",
      "(930, 5)\n"
     ]
    }
   ],
   "source": [
    "\n",
    "        \n",
    "    #elif i>2100 and i<2800:\n",
    "       # y[i]='TakeOff'\n",
    "\n",
    "\n",
    "\n",
    "#y = df['Maneuver']\n",
    "\n",
    "\n",
    "\n",
    "X_train, X_test, y_train, y_test = sklearn.model_selection.train_test_split(X, y, test_size = 0.20, random_state = 5)\n",
    "print(X_train.shape)\n",
    "print(X_test.shape)\n",
    "\n",
    "#print(y_test.shape)"
   ]
  },
  {
   "cell_type": "code",
   "execution_count": 35,
   "metadata": {},
   "outputs": [
    {
     "name": "stdout",
     "output_type": "stream",
     "text": [
      "{'C': 1.0, 'class_weight': None, 'dual': False, 'fit_intercept': True, 'intercept_scaling': 1, 'l1_ratio': None, 'max_iter': 100, 'multi_class': 'multinomial', 'n_jobs': None, 'penalty': 'none', 'random_state': 0, 'solver': 'newton-cg', 'tol': 0.0001, 'verbose': 0, 'warm_start': False}\n"
     ]
    }
   ],
   "source": [
    "model1 = LogisticRegression(random_state=0, multi_class='multinomial', penalty='none', solver='newton-cg').fit(X_train, y_train)\n",
    "preds = model1.predict(X_test)\n",
    "\n",
    "#print the tunable parameters (They were not tuned in this example, everything kept as default)\n",
    "params = model1.get_params()\n",
    "print(params)\n"
   ]
  },
  {
   "cell_type": "code",
   "execution_count": 36,
   "metadata": {},
   "outputs": [
    {
     "name": "stdout",
     "output_type": "stream",
     "text": [
      "Intercept: \n",
      " [ 1.80534043 -1.55054475 -0.25479568]\n",
      "Coefficients: \n",
      " [[-0.00302958 -0.14818653  0.16359693 -0.00048357 -0.18372669]\n",
      " [ 0.00135954  0.10797042 -0.1154043  -0.00321118  0.0895209 ]\n",
      " [ 0.00167003  0.0402161  -0.04819264  0.00369474  0.0942058 ]]\n"
     ]
    }
   ],
   "source": [
    "#Print model parameters\n",
    "print('Intercept: \\n', model1.intercept_)\n",
    "print('Coefficients: \\n', model1.coef_)"
   ]
  },
  {
   "cell_type": "code",
   "execution_count": 37,
   "metadata": {},
   "outputs": [
    {
     "data": {
      "text/plain": [
       "array([[0.99697501, 0.86227026, 1.17773951, 0.99951655, 0.83216321],\n",
       "       [1.00136046, 1.1140148 , 0.89100584, 0.99679397, 1.09365019],\n",
       "       [1.00167143, 1.04103572, 0.9529502 , 1.00370158, 1.09878585]])"
      ]
     },
     "execution_count": 37,
     "metadata": {},
     "output_type": "execute_result"
    }
   ],
   "source": [
    "#Calculate odds ratio estimates\n",
    "import numpy as np\n",
    "np.exp(model1.coef_)\n"
   ]
  },
  {
   "cell_type": "code",
   "execution_count": 38,
   "metadata": {},
   "outputs": [
    {
     "name": "stdout",
     "output_type": "stream",
     "text": [
      "Optimization terminated successfully.\n",
      "         Current function value: 0.414019\n",
      "         Iterations 10\n",
      "                          MNLogit Regression Results                          \n",
      "==============================================================================\n",
      "Dep. Variable:                      y   No. Observations:                 3720\n",
      "Model:                        MNLogit   Df Residuals:                     3708\n",
      "Method:                           MLE   Df Model:                           10\n",
      "Date:                Fri, 29 Jul 2022   Pseudo R-squ.:                  0.4460\n",
      "Time:                        23:44:25   Log-Likelihood:                -1540.2\n",
      "converged:                       True   LL-Null:                       -2779.9\n",
      "Covariance Type:            nonrobust   LLR p-value:                     0.000\n",
      "==============================================================================\n",
      "      y=MN       coef    std err          z      P>|z|      [0.025      0.975]\n",
      "------------------------------------------------------------------------------\n",
      "const         -3.3559      0.461     -7.277      0.000      -4.260      -2.452\n",
      "  AltMSL       0.0044      0.001      8.422      0.000       0.003       0.005\n",
      "    IAS        0.2562      0.018     14.323      0.000       0.221       0.291\n",
      " GndSpd       -0.2790      0.020    -13.856      0.000      -0.318      -0.240\n",
      "    VSpd      -0.0027      0.001     -5.401      0.000      -0.004      -0.002\n",
      "  Pitch        0.2732      0.050      5.472      0.000       0.175       0.371\n",
      "------------------------------------------------------------------------------\n",
      "      y=NT       coef    std err          z      P>|z|      [0.025      0.975]\n",
      "------------------------------------------------------------------------------\n",
      "const         -2.0601      0.455     -4.529      0.000      -2.952      -1.169\n",
      "  AltMSL       0.0047      0.001      9.018      0.000       0.004       0.006\n",
      "    IAS        0.1884      0.015     12.212      0.000       0.158       0.219\n",
      " GndSpd       -0.2118      0.018    -11.810      0.000      -0.247      -0.177\n",
      "    VSpd       0.0042      0.001      7.955      0.000       0.003       0.005\n",
      "  Pitch        0.2779      0.050      5.561      0.000       0.180       0.376\n",
      "==============================================================================\n",
      "                        Results: MNLogit\n",
      "================================================================\n",
      "Model:              MNLogit          Pseudo R-squared: 0.446    \n",
      "Dependent Variable: y                AIC:              3104.3015\n",
      "Date:               2022-07-29 23:44 BIC:              3178.9592\n",
      "No. Observations:   3720             Log-Likelihood:   -1540.2  \n",
      "Df Model:           10               LL-Null:          -2779.9  \n",
      "Df Residuals:       3708             LLR p-value:      0.0000   \n",
      "Converged:          1.0000           Scale:            1.0000   \n",
      "No. Iterations:     10.0000                                     \n",
      "----------------------------------------------------------------\n",
      "  y = 0     Coef.   Std.Err.     t      P>|t|    [0.025   0.975]\n",
      "----------------------------------------------------------------\n",
      " const     -3.3559    0.4612   -7.2767  0.0000  -4.2598  -2.4520\n",
      "AltMSL      0.0044    0.0005    8.4217  0.0000   0.0034   0.0054\n",
      "   IAS      0.2562    0.0179   14.3227  0.0000   0.2211   0.2912\n",
      "GndSpd     -0.2790    0.0201  -13.8564  0.0000  -0.3185  -0.2395\n",
      "  VSpd     -0.0027    0.0005   -5.4009  0.0000  -0.0037  -0.0017\n",
      " Pitch      0.2732    0.0499    5.4715  0.0000   0.1754   0.3711\n",
      "----------------------------------------------------------------\n",
      "  y = 1     Coef.   Std.Err.     t      P>|t|    [0.025   0.975]\n",
      "----------------------------------------------------------------\n",
      " const     -2.0601    0.4548   -4.5293  0.0000  -2.9516  -1.1687\n",
      "AltMSL      0.0047    0.0005    9.0181  0.0000   0.0037   0.0057\n",
      "   IAS      0.1884    0.0154   12.2122  0.0000   0.1582   0.2186\n",
      "GndSpd     -0.2118    0.0179  -11.8104  0.0000  -0.2469  -0.1766\n",
      "  VSpd      0.0042    0.0005    7.9554  0.0000   0.0031   0.0052\n",
      " Pitch      0.2779    0.0500    5.5612  0.0000   0.1800   0.3759\n",
      "================================================================\n",
      "\n"
     ]
    }
   ],
   "source": [
    "#Use statsmodels to assess variables\n",
    "\n",
    "logit_model=sm.MNLogit(y_train,sm.add_constant(X_train))\n",
    "logit_model\n",
    "result=logit_model.fit()\n",
    "stats1=result.summary()\n",
    "stats2=result.summary2()\n",
    "print(stats1)\n",
    "print(stats2)"
   ]
  },
  {
   "cell_type": "code",
   "execution_count": 39,
   "metadata": {},
   "outputs": [
    {
     "data": {
      "text/html": [
       "<div>\n",
       "<style scoped>\n",
       "    .dataframe tbody tr th:only-of-type {\n",
       "        vertical-align: middle;\n",
       "    }\n",
       "\n",
       "    .dataframe tbody tr th {\n",
       "        vertical-align: top;\n",
       "    }\n",
       "\n",
       "    .dataframe thead th {\n",
       "        text-align: right;\n",
       "    }\n",
       "</style>\n",
       "<table border=\"1\" class=\"dataframe\">\n",
       "  <thead>\n",
       "    <tr style=\"text-align: right;\">\n",
       "      <th></th>\n",
       "      <th>predicted_NT</th>\n",
       "      <th>predicted_LD</th>\n",
       "      <th>predicted_MN</th>\n",
       "    </tr>\n",
       "  </thead>\n",
       "  <tbody>\n",
       "    <tr>\n",
       "      <th>NT</th>\n",
       "      <td>13</td>\n",
       "      <td>16</td>\n",
       "      <td>38</td>\n",
       "    </tr>\n",
       "    <tr>\n",
       "      <th>LD</th>\n",
       "      <td>1</td>\n",
       "      <td>129</td>\n",
       "      <td>72</td>\n",
       "    </tr>\n",
       "    <tr>\n",
       "      <th>MN</th>\n",
       "      <td>12</td>\n",
       "      <td>33</td>\n",
       "      <td>616</td>\n",
       "    </tr>\n",
       "  </tbody>\n",
       "</table>\n",
       "</div>"
      ],
      "text/plain": [
       "    predicted_NT  predicted_LD  predicted_MN\n",
       "NT            13            16            38\n",
       "LD             1           129            72\n",
       "MN            12            33           616"
      ]
     },
     "execution_count": 39,
     "metadata": {},
     "output_type": "execute_result"
    }
   ],
   "source": [
    "#Create a confusion matrix\n",
    "#y_test as first argument and the preds as second argument \n",
    "confusion_matrix(y_test, preds)\n",
    "\n",
    "#array([[ 88,  34, 135],\n",
    "  #     [ 11, 223,  28],\n",
    "   #    [ 88,  63, 159]])\n",
    "\n",
    "#transform confusion matrix into array\n",
    "#the matrix is stored in a vaiable called confmtrx\n",
    "confmtrx = np.array(confusion_matrix(y_test, preds))\n",
    "#Create DataFrame from confmtrx array \n",
    "#rows for test: Male, Female, Infant designation as index \n",
    "#columns for preds: male, predicted_female, predicted_infant as column\n",
    "\n",
    "pd.DataFrame(confmtrx, index=['NT','LD','MN'],\n",
    "columns=['predicted_NT','predicted_LD','predicted_MN'])#'predicted_MN'])"
   ]
  },
  {
   "cell_type": "code",
   "execution_count": 40,
   "metadata": {},
   "outputs": [
    {
     "name": "stdout",
     "output_type": "stream",
     "text": [
      "Accuracy Score: 0.8150537634408602\n",
      "              precision    recall  f1-score   support\n",
      "\n",
      "          LD       0.50      0.19      0.28        67\n",
      "          MN       0.72      0.64      0.68       202\n",
      "          NT       0.85      0.93      0.89       661\n",
      "\n",
      "    accuracy                           0.82       930\n",
      "   macro avg       0.69      0.59      0.62       930\n",
      "weighted avg       0.80      0.82      0.80       930\n",
      "\n"
     ]
    }
   ],
   "source": [
    "#Accuracy statistics\n",
    "\n",
    "print('Accuracy Score:', metrics.accuracy_score(y_test, preds))  \n",
    "\n",
    "#Create classification report\n",
    "class_report=classification_report(y_test, preds)\n",
    "print(class_report)"
   ]
  },
  {
   "cell_type": "code",
   "execution_count": null,
   "metadata": {},
   "outputs": [],
   "source": []
  },
  {
   "cell_type": "code",
   "execution_count": null,
   "metadata": {},
   "outputs": [],
   "source": []
  },
  {
   "cell_type": "code",
   "execution_count": null,
   "metadata": {},
   "outputs": [],
   "source": []
  }
 ],
 "metadata": {
  "kernelspec": {
   "display_name": "Python 3",
   "language": "python",
   "name": "python3"
  },
  "language_info": {
   "codemirror_mode": {
    "name": "ipython",
    "version": 3
   },
   "file_extension": ".py",
   "mimetype": "text/x-python",
   "name": "python",
   "nbconvert_exporter": "python",
   "pygments_lexer": "ipython3",
   "version": "3.8.5"
  }
 },
 "nbformat": 4,
 "nbformat_minor": 5
}
