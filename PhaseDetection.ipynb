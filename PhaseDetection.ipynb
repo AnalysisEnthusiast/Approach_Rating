{
 "cells": [
  {
   "cell_type": "code",
   "execution_count": 3,
   "metadata": {},
   "outputs": [],
   "source": [
    "## Importing the libraries\n",
    "\n",
    "import numpy as np\n",
    "import matplotlib.pyplot as plt\n",
    "import pandas as pd\n",
    "import csv\n",
    "\n",
    "\n",
    "## Importing the dataset\n",
    "\n",
    "file = open('log_190405_120032_KSWO.csv')\n",
    "\n",
    "\n",
    "# reading the information of the A/C:\n",
    "csvreader = csv.reader(file)\n",
    "header = []\n",
    "header = next(csvreader)\n",
    "\n",
    "\n",
    "###############################################################\n",
    "\n",
    "#X = dataset.iloc[1:,:].values\n",
    "#y = dataset.iloc[:, -1].values\n",
    "# reading the rest:\n",
    "rows = []\n",
    "\n",
    "\n",
    "for row in csvreader:\n",
    "  rows.append(row)\n",
    "\n",
    "file.close()\n",
    "#rows\n",
    "#rows[1]\n",
    "# rows[0] is useless! ONLY UNITS!\n",
    "\n",
    "#print(header)\n",
    "\n",
    "#i=0\n",
    "#j=0\n",
    "#for martix in rows:\n",
    " # print(matrix[1])\n",
    " # i=i+1\n",
    " # j=j+1\n",
    "#rows[1]\n",
    "\n",
    "# Import the NumPy library\n",
    "#import numpy as np\n",
    "# Create the list of lists\n",
    "#rows = [[1, 2, 3], [4, 5], [6, 7, 8, 9]]\n",
    "# Calculate length of maximal list\n",
    "n = len(max(rows, key=len))\n",
    "# Make the lists equal in length\n",
    "rows_2 = [x + [None]*(n-len(x)) for x in rows]\n",
    "#print(rows_2)\n",
    "# [[1, 2, 3, None], [4, 5, None, None], [6, 7, 8, 9]]\n",
    "# Convert it to a NumPy array\n",
    "matrix = np.array(rows_2[1:])\n",
    "# Print the resulting array\n",
    "#print(matrix)\n",
    "#print(a[3,-4]#)\n",
    "\n",
    "\n",
    "#print(matrix[1])\n",
    "\n",
    "#rows = np.array(rows)\n",
    "shape = (len(matrix),len(matrix[0]))\n",
    "\n",
    "#print(matrix.reshape(shape))\n",
    "\n",
    "\n",
    "#martix=[]\n",
    "##for i in range(1,len(rows)):\n",
    " # for j in range(0,len(rows[0])):\n",
    "  #  matrix(i-1,j)=rows[i][j]\n",
    "  "
   ]
  },
  {
   "cell_type": "code",
   "execution_count": 4,
   "metadata": {},
   "outputs": [],
   "source": [
    "df = pd.read_csv('log_190405_120032_KSWO.csv',header=2)\n",
    "df = df.apply(pd.to_numeric, errors='coerce')\n",
    "#df.head(10)\n",
    "#df.columns\n",
    "\n",
    "\n",
    "#df.info()\n",
    "\n",
    "\n",
    "\n",
    "#df.describe()\n",
    "#%matplotlib inline\n",
    "#import matplotlib.pylab as plt\n",
    "#plt.figure(figsize=(15,8)) \n",
    "#plt.plot(df['     Latitude'],df['    Longitude'])\n",
    "#plt.show()\n",
    "#import matplotlib.pylab as plt\n",
    "#plt.figure(figsize=(15,8)) \n",
    "#plt.plot(df['     Latitude'],df['    Longitude'])\n"
   ]
  },
  {
   "cell_type": "code",
   "execution_count": 5,
   "metadata": {},
   "outputs": [],
   "source": [
    "#df.columns"
   ]
  },
  {
   "cell_type": "code",
   "execution_count": 6,
   "metadata": {},
   "outputs": [],
   "source": [
    "#df['     Latitude'][3]"
   ]
  },
  {
   "cell_type": "code",
   "execution_count": 7,
   "metadata": {},
   "outputs": [],
   "source": [
    "import requests\n",
    "import urllib\n",
    "import pandas as pd\n",
    "\n",
    "# USGS Elevation Point Query Service\n",
    "url = r'https://nationalmap.gov/epqs/pqs.php?'\n",
    "\n",
    "# coordinates with known elevation \n",
    "\n",
    "steps=50\n",
    "# create data frame\n",
    "dff = pd.DataFrame({\n",
    "    'lat':df['     Latitude'][0:len(df['     Latitude']):steps],\n",
    "    'lon':df['    Longitude'][0:len(df['     Latitude']):steps]\n",
    "})\n",
    "\n",
    "def elevation_function(dff, lat_column, lon_column):\n",
    "    \"\"\"Query service using lat, lon. add the elevation values as a new column.\"\"\"\n",
    "    elevations = []\n",
    "    for lat, lon in zip(dff[lat_column], dff[lon_column]):\n",
    "\n",
    "        # define rest query params\n",
    "        params = {\n",
    "            'output': 'json',\n",
    "            'x': lon,\n",
    "            'y': lat,\n",
    "            'units': 'Feet'\n",
    "        }\n",
    "\n",
    "        # format query string and return query value\n",
    "        result = requests.get((url + urllib.parse.urlencode(params)))\n",
    "        elevations.append(result.json()['USGS_Elevation_Point_Query_Service']['Elevation_Query']['Elevation'])\n",
    "\n",
    "    dff['elev_feet'] = elevations\n",
    "\n",
    "elevation_function(dff, 'lat', 'lon')\n",
    "#dff.head()"
   ]
  },
  {
   "cell_type": "code",
   "execution_count": 8,
   "metadata": {},
   "outputs": [],
   "source": [
    "#print(dff)\n"
   ]
  },
  {
   "cell_type": "code",
   "execution_count": 9,
   "metadata": {},
   "outputs": [],
   "source": [
    "#print(dff['elev_feet'])\n"
   ]
  },
  {
   "cell_type": "code",
   "execution_count": 10,
   "metadata": {},
   "outputs": [],
   "source": [
    "#[0:2000:100]\n",
    "for x in range (0,len(df['  AltMSL']),steps):\n",
    "    df['ATA']=(df['  AltMSL'])-(dff['elev_feet'])\n",
    "    \n",
    "    \n",
    "    !\n",
    "#print(df['  AltMSL'][0])\n",
    "\n",
    "\n",
    "!\n",
    "#print(df['ATA'])"
   ]
  },
  {
   "cell_type": "code",
   "execution_count": 11,
   "metadata": {},
   "outputs": [],
   "source": [
    "df['ATA'] = df['ATA'].fillna(0)\n",
    "#print(df['ATA'])"
   ]
  },
  {
   "cell_type": "code",
   "execution_count": 12,
   "metadata": {},
   "outputs": [
    {
     "data": {
      "image/png": "[encoded data removed]",
      "text/plain": [
       "<Figure size 1080x576 with 1 Axes>"
      ]
     },
     "metadata": {
      "needs_background": "light"
     },
     "output_type": "display_data"
    }
   ],
   "source": [
    "time=range(len(['ATA']))\n",
    "import matplotlib.pylab as plt\n",
    "plt.figure(figsize=(15,8)) \n",
    "plt.plot(df['ATA'])\n",
    "plt.xlabel('Time (sec)')\n",
    "plt.ylabel('Above Terrain Altitude (ft)')\n",
    "plt.title('Actual Altitude') \n",
    "plt.savefig('Actual Altitude_1.jpg')"
   ]
  },
  {
   "cell_type": "code",
   "execution_count": 13,
   "metadata": {},
   "outputs": [],
   "source": [
    "#for x in df['ATA']:\n",
    "#if df['ATA']>0:\n",
    "       #3 print(\"Hi\")\n",
    "        #and (df['ATA'][x]<1000):\n",
    "        #print(x,df['ATA'][x])\n",
    "Litem = []\n",
    "Lindex= []\n",
    "for idx, itm in enumerate (df['ATA']):\n",
    "    if (itm!=0) and (itm<1000): #zero is excluded due to discrete data extraction (otherwise equal to zero)!\n",
    "        #print(idx, itm)\n",
    "        Litem.append(itm)\n",
    "        Lindex.append(idx)"
   ]
  },
  {
   "cell_type": "code",
   "execution_count": 14,
   "metadata": {},
   "outputs": [],
   "source": [
    "#df['ATA'][150]"
   ]
  },
  {
   "cell_type": "code",
   "execution_count": 15,
   "metadata": {},
   "outputs": [
    {
     "data": {
      "text/plain": [
       "56"
      ]
     },
     "execution_count": 15,
     "metadata": {},
     "output_type": "execute_result"
    }
   ],
   "source": [
    "len(Litem)"
   ]
  },
  {
   "cell_type": "code",
   "execution_count": 16,
   "metadata": {},
   "outputs": [
    {
     "name": "stdout",
     "output_type": "stream",
     "text": [
      "[0, 50, 100, 150, 200, 250, 300, 350, 400, 450, 500, 550, 600, 650, 700, 2100, 2250, 2300, 2350, 2400, 2450, 2500, 2550, 3000, 3050, 3100, 3150, 3200, 3250, 3300, 3350, 3400, 3450, 3500, 3550, 3600, 3650, 3700, 3750, 3800, 3850, 3900, 3950, 4000, 4050, 4100, 4150, 4200, 4250, 4300, 4350, 4400, 4450, 4500, 4550, 4600]\n"
     ]
    }
   ],
   "source": [
    "print(Lindex)"
   ]
  },
  {
   "cell_type": "code",
   "execution_count": 17,
   "metadata": {},
   "outputs": [
    {
     "name": "stdout",
     "output_type": "stream",
     "text": [
      "0 -12.240000000000009\n",
      "50 -14.840000000000032\n",
      "100 -15.680000000000064\n",
      "150 -11.539999999999964\n",
      "200 1.4300000000000637\n",
      "250 -3.659999999999968\n",
      "300 -3.759999999999991\n",
      "350 -3.82000000000005\n",
      "400 -2.0699999999999363\n",
      "450 -1.5799999999999272\n",
      "500 -2.75\n",
      "550 -5.149999999999977\n",
      "600 -4.349999999999909\n",
      "650 333.5400000000001\n",
      "700 804.3\n",
      "2100 778.4999999999999\n",
      "2250 963.29\n",
      "2300 924.8399999999999\n",
      "2350 896.55\n",
      "2400 918.35\n",
      "2450 831.7299999999999\n",
      "2500 813.7900000000001\n",
      "2550 927.1800000000001\n",
      "3000 896.1999999999999\n",
      "3050 855.7900000000001\n",
      "3100 816.25\n",
      "3150 456.47\n",
      "3200 -0.7300000000000182\n",
      "3250 384.81000000000006\n",
      "3300 965.4899999999999\n",
      "3350 816.26\n",
      "3400 843.9099999999999\n",
      "3450 577.9\n",
      "3500 182.54999999999995\n",
      "3550 2.669999999999959\n",
      "3600 458.83000000000004\n",
      "3650 821.3499999999999\n",
      "3700 815.76\n",
      "3750 105.59000000000003\n",
      "3800 127.40000000000009\n",
      "3850 772.08\n",
      "3900 893.1399999999999\n",
      "3950 723.04\n",
      "4000 17.399999999999977\n",
      "4050 316.93000000000006\n",
      "4100 903.77\n",
      "4150 787.4899999999999\n",
      "4200 349.07000000000005\n",
      "4250 12.420000000000073\n",
      "4300 615.2700000000001\n",
      "4350 815.52\n",
      "4400 666.2300000000001\n",
      "4450 18.620000000000005\n",
      "4500 -3.4200000000000728\n",
      "4550 -2.269999999999982\n",
      "4600 -1.4200000000000728\n"
     ]
    }
   ],
   "source": [
    "for ii in range (0,len(Lindex)):\n",
    "    print(Lindex[ii],Litem[ii])"
   ]
  },
  {
   "cell_type": "code",
   "execution_count": 18,
   "metadata": {},
   "outputs": [
    {
     "name": "stdout",
     "output_type": "stream",
     "text": [
      "[50, 50, 50, 50, 50, 50, 50, 50, 50, 50, 50, 50, 50, 50, 1400, 150, 50, 50, 50, 50, 50, 50, 450, 50, 50, 50, 50, 50, 50, 50, 50, 50, 50, 50, 50, 50, 50, 50, 50, 50, 50, 50, 50, 50, 50, 50, 50, 50, 50, 50, 50, 50, 50, 50, 50]\n",
      "Heading the Ground!\n",
      "Heading the Ground!\n",
      "Heading the Ground!\n",
      "Heading the Ground!\n",
      "Heading the Ground!\n",
      "Heading the Ground!\n",
      "Heading the Ground!\n",
      "Heading the Ground!\n",
      "Heading the Ground!\n",
      "Heading the Ground!\n",
      "Heading the Ground!\n",
      "Heading the Ground!\n",
      "Heading the Ground!\n",
      "Heading the Ground!\n",
      "Wait! You need to know more about it! NOT always downward\n",
      "Wait! You need to know more about it! NOT always downward\n",
      "Heading the Ground!\n",
      "Heading the Ground!\n",
      "Heading the Ground!\n",
      "Heading the Ground!\n",
      "Heading the Ground!\n",
      "Heading the Ground!\n",
      "Wait! You need to know more about it! NOT always downward\n",
      "Heading the Ground!\n",
      "Heading the Ground!\n",
      "Heading the Ground!\n",
      "Heading the Ground!\n",
      "Heading the Ground!\n",
      "Heading the Ground!\n",
      "Heading the Ground!\n",
      "Heading the Ground!\n",
      "Heading the Ground!\n",
      "Heading the Ground!\n",
      "Heading the Ground!\n",
      "Heading the Ground!\n",
      "Heading the Ground!\n",
      "Heading the Ground!\n",
      "Heading the Ground!\n",
      "Heading the Ground!\n",
      "Heading the Ground!\n",
      "Heading the Ground!\n",
      "Heading the Ground!\n",
      "Heading the Ground!\n",
      "Heading the Ground!\n",
      "Heading the Ground!\n",
      "Heading the Ground!\n",
      "Heading the Ground!\n",
      "Heading the Ground!\n",
      "Heading the Ground!\n",
      "Heading the Ground!\n",
      "Heading the Ground!\n",
      "Heading the Ground!\n",
      "Heading the Ground!\n",
      "Heading the Ground!\n",
      "Heading the Ground!\n"
     ]
    }
   ],
   "source": [
    "Lcheck=[Lindex[i+1]-Lindex[i] for i in range(len(Lindex)-1)]\n",
    "print(Lcheck)\n",
    "for i in Lcheck:\n",
    "    if i!=steps:\n",
    "        print(\"Wait! You need to know more about it! NOT always downward\")\n",
    "    else:\n",
    "        print(\"Heading the Ground!\")"
   ]
  },
  {
   "cell_type": "code",
   "execution_count": 19,
   "metadata": {},
   "outputs": [
    {
     "name": "stdout",
     "output_type": "stream",
     "text": [
      "[50, 50, 50, 50, 50, 50, 50, 50, 50, 50, 50, 50, 50, 50, 1400, 150, 50, 50, 50, 50, 50, 50, 450, 50, 50, 50, 50, 50, 50, 50, 50, 50, 50, 50, 50, 50, 50, 50, 50, 50, 50, 50, 50, 50, 50, 50, 50, 50, 50, 50, 50, 50, 50, 50, 50]\n",
      "0 -12.240000000000009 Near the Terrain!\n",
      "50 -14.840000000000032 Near the Terrain!\n",
      "100 -15.680000000000064 Near the Terrain!\n",
      "150 -11.539999999999964 Near the Terrain!\n",
      "200 1.4300000000000637 Near the Terrain!\n",
      "250 -3.659999999999968 Near the Terrain!\n",
      "300 -3.759999999999991 Near the Terrain!\n",
      "350 -3.82000000000005 Near the Terrain!\n",
      "400 -2.0699999999999363 Near the Terrain!\n",
      "450 -1.5799999999999272 Near the Terrain!\n",
      "500 -2.75 Near the Terrain!\n",
      "550 -5.149999999999977 Near the Terrain!\n",
      "600 -4.349999999999909 Wait! Maybe a Maneuver!\n",
      "650 333.5400000000001 Wait! Maybe a Maneuver!\n",
      "700 804.3 Wait! Maybe a Maneuver!\n",
      "2100 778.4999999999999 Wait! Maybe a Maneuver!\n",
      "2250 963.29 Near the Terrain!\n",
      "2300 924.8399999999999 Near the Terrain!\n",
      "2350 896.55 Near the Terrain!\n",
      "2400 918.35 Near the Terrain!\n",
      "2450 831.7299999999999 Wait! Maybe a Maneuver!\n",
      "2500 813.7900000000001 Wait! Maybe a Maneuver!\n",
      "2550 927.1800000000001 Wait! Maybe a Maneuver!\n",
      "3000 896.1999999999999 Near the Terrain!\n",
      "3050 855.7900000000001 Near the Terrain!\n",
      "3100 816.25 Near the Terrain!\n",
      "3150 456.47 Near the Terrain!\n",
      "3200 -0.7300000000000182 Near the Terrain!\n",
      "3250 384.81000000000006 Near the Terrain!\n",
      "3300 965.4899999999999 Near the Terrain!\n",
      "3350 816.26 Near the Terrain!\n",
      "3400 843.9099999999999 Near the Terrain!\n",
      "3450 577.9 Near the Terrain!\n",
      "3500 182.54999999999995 Near the Terrain!\n",
      "3550 2.669999999999959 Near the Terrain!\n",
      "3600 458.83000000000004 Near the Terrain!\n",
      "3650 821.3499999999999 Near the Terrain!\n",
      "3700 815.76 Near the Terrain!\n",
      "3750 105.59000000000003 Near the Terrain!\n",
      "3800 127.40000000000009 Near the Terrain!\n",
      "3850 772.08 Near the Terrain!\n",
      "3900 893.1399999999999 Near the Terrain!\n",
      "3950 723.04 Near the Terrain!\n",
      "4000 17.399999999999977 Near the Terrain!\n",
      "4050 316.93000000000006 Near the Terrain!\n",
      "4100 903.77 Near the Terrain!\n",
      "4150 787.4899999999999 Near the Terrain!\n",
      "4200 349.07000000000005 Near the Terrain!\n",
      "4250 12.420000000000073 Near the Terrain!\n",
      "4300 615.2700000000001 Near the Terrain!\n",
      "4350 815.52 Near the Terrain!\n",
      "4400 666.2300000000001 Near the Terrain!\n",
      "4450 18.620000000000005 Near the Terrain!\n"
     ]
    }
   ],
   "source": [
    "Lcheck2=[Lindex[i+3]-Lindex[i] for i in range(len(Lindex)-3)]\n",
    "print(Lcheck)\n",
    "j=-1\n",
    "for i in Lcheck2:\n",
    "    j=j+1\n",
    "    #072822 NOW\n",
    "    #if Litem[j]>0:\n",
    "    if i!=3*steps:\n",
    "       \n",
    "        print(Lindex[j],Litem[j],\"Wait! Maybe a Maneuver!\")\n",
    "        \n",
    "    else:\n",
    "        print(Lindex[j],Litem[j],\"Near the Terrain!\")"
   ]
  },
  {
   "cell_type": "code",
   "execution_count": 20,
   "metadata": {},
   "outputs": [
    {
     "name": "stdout",
     "output_type": "stream",
     "text": [
      "[50, 50, 50, 50, 50, 50, 50, 50, 50, 50, 50, 50, 50, 50, 1400, 150, 50, 50, 50, 50, 50, 50, 450, 50, 50, 50, 50, 50, 50, 50, 50, 50, 50, 50, 50, 50, 50, 50, 50, 50, 50, 50, 50, 50, 50, 50, 50, 50, 50, 50, 50, 50, 50, 50, 50]\n",
      "650 333.5400000000001 It is a TakeOff phase!\n",
      "700 804.3 Temporary! Maybe a Maneuver!\n",
      "2100 778.4999999999999 It is a TakeOff phase!\n",
      "2250 963.29 It really seems to be a Landing!\n",
      "2300 924.8399999999999 It really seems to be a Landing!\n",
      "2400 918.35 It is a TakeOff phase!\n",
      "2450 831.7299999999999 Temporary! Maybe a Maneuver!\n",
      "2500 813.7900000000001 It is a TakeOff phase!\n",
      "2550 927.1800000000001 Temporary! Maybe a Maneuver!\n",
      "3000 896.1999999999999 It really seems to be a Landing!\n",
      "3050 855.7900000000001 It really seems to be a Landing!\n",
      "3100 816.25 It really seems to be a Landing!\n",
      "3150 456.47 It is a TakeOff phase!\n",
      "3250 384.81000000000006 It is a TakeOff phase!\n",
      "3300 965.4899999999999 It really seems to be a Landing!\n",
      "3400 843.9099999999999 It really seems to be a Landing!\n",
      "3450 577.9 It really seems to be a Landing!\n",
      "3500 182.54999999999995 It is a TakeOff phase!\n",
      "3550 2.669999999999959 It is a TakeOff phase!\n",
      "3650 821.3499999999999 It really seems to be a Landing!\n",
      "3700 815.76 It really seems to be a Landing!\n",
      "3750 105.59000000000003 It is a TakeOff phase!\n",
      "3800 127.40000000000009 It is a TakeOff phase!\n",
      "3900 893.1399999999999 It really seems to be a Landing!\n",
      "3950 723.04 It is a TakeOff phase!\n",
      "4000 17.399999999999977 It is a TakeOff phase!\n",
      "4050 316.93000000000006 It is a TakeOff phase!\n",
      "4100 903.77 It really seems to be a Landing!\n",
      "4150 787.4899999999999 It really seems to be a Landing!\n",
      "4200 349.07000000000005 It is a TakeOff phase!\n",
      "4250 12.420000000000073 It is a TakeOff phase!\n",
      "4350 815.52 It really seems to be a Landing!\n",
      "4400 666.2300000000001 It really seems to be a Landing!\n"
     ]
    }
   ],
   "source": [
    "Lcheck2=[Lindex[i+3]-Lindex[i] for i in range(len(Lindex)-3)]\n",
    "print(Lcheck)\n",
    "j=-1\n",
    "Phase=[]\n",
    "for i in Lcheck2:\n",
    "    j=j+1\n",
    "    #072822 NOW\n",
    "    if Litem[j]>0:\n",
    "        if (i!=3*steps) and (Litem[j+1]<Litem[j]):\n",
    "            print(Lindex[j],Litem[j],\"Temporary! Maybe a Maneuver!\")\n",
    "            Phase.append('MN')\n",
    "        \n",
    "        else:\n",
    "            if (Litem[j+3]>Litem[j]):\n",
    "                print (Lindex[j],Litem[j],\"It is a TakeOff phase!\")\n",
    "                Phase.append('NT')\n",
    "            elif (Litem[j+1]<Litem[j]) and (Litem[j+1]>0):\n",
    "                print(Lindex[j],Litem[j],\"It really seems to be a Landing!\")\n",
    "                Phase.append('LD')\n",
    "       "
   ]
  },
  {
   "cell_type": "code",
   "execution_count": 21,
   "metadata": {},
   "outputs": [
    {
     "name": "stdout",
     "output_type": "stream",
     "text": [
      "['NT', 'MN', 'NT', 'LD', 'LD', 'NT', 'MN', 'NT', 'MN', 'LD', 'LD', 'LD', 'NT', 'NT', 'LD', 'LD', 'LD', 'NT', 'NT', 'LD', 'LD', 'NT', 'NT', 'LD', 'NT', 'NT', 'NT', 'LD', 'LD', 'NT', 'NT', 'LD', 'LD']\n"
     ]
    }
   ],
   "source": [
    "print(Phase)"
   ]
  },
  {
   "cell_type": "code",
   "execution_count": 22,
   "metadata": {},
   "outputs": [],
   "source": [
    "#*****Hand Coding to compare with Logistic Regresison****#\n"
   ]
  },
  {
   "cell_type": "code",
   "execution_count": 23,
   "metadata": {},
   "outputs": [
    {
     "name": "stdout",
     "output_type": "stream",
     "text": [
      "0.04366094290851206 0.061162620150484306 1.633123935319537e+16\n"
     ]
    }
   ],
   "source": [
    "def Tan(x):\n",
    "    import math\n",
    "    return (math.tan(x*math.pi/180))\n",
    "#Tan(45)\n",
    "print(Tan(2.5),Tan(3.5), Tan(90))"
   ]
  },
  {
   "cell_type": "code",
   "execution_count": 24,
   "metadata": {},
   "outputs": [
    {
     "data": {
      "text/plain": [
       "45.0"
      ]
     },
     "execution_count": 24,
     "metadata": {},
     "output_type": "execute_result"
    }
   ],
   "source": [
    "def Atan(x):\n",
    "    import math\n",
    "    return (math.degrees(math.atan(x)))\n",
    "\n",
    "Atan(1)\n",
    "\n"
   ]
  },
  {
   "cell_type": "code",
   "execution_count": 25,
   "metadata": {},
   "outputs": [
    {
     "data": {
      "text/plain": [
       "8.887221163435997"
      ]
     },
     "execution_count": 25,
     "metadata": {},
     "output_type": "execute_result"
    }
   ],
   "source": [
    "def ConvertFPM(x):\n",
    "    import math\n",
    "    return (x/101.269)\n",
    "\n",
    "ConvertFPM(900)\n"
   ]
  },
  {
   "cell_type": "code",
   "execution_count": 26,
   "metadata": {},
   "outputs": [
    {
     "name": "stdout",
     "output_type": "stream",
     "text": [
      "GroundSpeed: 101.57\n",
      "VSpd: -538.635 Real VSpd: 289.54\n",
      "GroundSpeed: 105.43\n",
      "VSpd: -559.865 Real VSpd: -260.01\n",
      "GroundSpeed: 98.65\n",
      "VSpd: -522.575 Real VSpd: 62.03\n",
      "GroundSpeed: 102.56\n",
      "VSpd: -544.08 Real VSpd: -174.46\n",
      "GroundSpeed: 108.74\n",
      "VSpd: -578.0699999999999 Real VSpd: -518.47\n",
      "GroundSpeed: 104.68\n",
      "VSpd: -555.74 Real VSpd: 197.91\n",
      "GroundSpeed: 98.3\n",
      "VSpd: -520.65 Real VSpd: 105.45\n",
      "GroundSpeed: 101.9\n",
      "VSpd: -540.45 Real VSpd: -0.95\n",
      "GroundSpeed: 99.58\n",
      "VSpd: -527.6899999999999 Real VSpd: -215.61\n",
      "GroundSpeed: 96.41\n",
      "VSpd: -510.255 Real VSpd: 180.91\n",
      "GroundSpeed: 105.14\n",
      "VSpd: -558.27 Real VSpd: -292.71\n",
      "GroundSpeed: 91.5\n",
      "VSpd: -483.25 Real VSpd: 860.29\n",
      "GroundSpeed: 93.89\n",
      "VSpd: -496.395 Real VSpd: 666.86\n",
      "GroundSpeed: 97.99\n",
      "VSpd: -518.9449999999999 Real VSpd: 70.44\n",
      "GroundSpeed: 107.44\n",
      "VSpd: -570.92 Real VSpd: -93.0\n",
      "GroundSpeed: 112.24\n",
      "Intended VSpd: -596.76 Real VSpd: -16.44\n",
      "GroundSpeed: 110.33\n",
      "Intended VSpd: -586.7325 Real VSpd: -278.54\n",
      "GroundSpeed: 104.03\n",
      "VSpd: -552.165 Real VSpd: -54.92\n",
      "GroundSpeed: 99.02\n",
      "VSpd: -524.61 Real VSpd: 87.57\n",
      "GroundSpeed: 98.28\n",
      "VSpd: -520.54 Real VSpd: -71.31\n",
      "GroundSpeed: 100.44\n",
      "VSpd: -532.42 Real VSpd: -260.01\n",
      "GroundSpeed: 106.25\n",
      "VSpd: -564.375 Real VSpd: -118.09\n",
      "GroundSpeed: 105.45\n",
      "VSpd: -559.975 Real VSpd: 616.07\n",
      "GroundSpeed: 100.83\n",
      "VSpd: -534.5649999999999 Real VSpd: 227.04\n",
      "GroundSpeed: 106.74\n",
      "VSpd: -567.0699999999999 Real VSpd: -379.7\n",
      "GroundSpeed: 106.25\n",
      "VSpd: -564.375 Real VSpd: -536.49\n",
      "GroundSpeed: 100.61\n",
      "VSpd: -533.355 Real VSpd: -99.04\n",
      "GroundSpeed: 102.4\n",
      "VSpd: -543.2 Real VSpd: 388.51\n",
      "GroundSpeed: 104.33\n",
      "VSpd: -553.8149999999999 Real VSpd: 657.93\n",
      "GroundSpeed: 94.22\n",
      "VSpd: -498.21 Real VSpd: 506.09\n",
      "GroundSpeed: 73.65\n",
      "VSpd: -385.07500000000005 Real VSpd: -182.78\n",
      "GroundSpeed: 67.18\n",
      "VSpd: -349.49 Real VSpd: -1032.31\n",
      "GroundSpeed: 61.39\n",
      "VSpd: -317.645 Real VSpd: -409.01\n",
      "GroundSpeed: 75.11\n",
      "VSpd: -393.105 Real VSpd: 245.12\n",
      "GroundSpeed: 81.82\n",
      "VSpd: -430.01 Real VSpd: 866.45\n",
      "GroundSpeed: 91.42\n",
      "VSpd: -482.81 Real VSpd: 357.39\n",
      "GroundSpeed: 101.22\n",
      "VSpd: -536.71 Real VSpd: -367.61\n",
      "GroundSpeed: 100.48\n",
      "VSpd: -532.64 Real VSpd: 70.64\n",
      "GroundSpeed: 103.59\n",
      "VSpd: -549.745 Real VSpd: -192.86\n",
      "GroundSpeed: 102.6\n",
      "VSpd: -544.3 Real VSpd: 115.24\n",
      "GroundSpeed: 75.81\n",
      "VSpd: -396.95500000000004 Real VSpd: -249.06\n",
      "GroundSpeed: 64.5\n",
      "VSpd: -334.75 Real VSpd: -402.06\n",
      "GroundSpeed: 71.13\n",
      "VSpd: -371.215 Real VSpd: -575.77\n",
      "GroundSpeed: 70.21\n",
      "VSpd: -366.155 Real VSpd: -471.17\n",
      "GroundSpeed: 57.15\n",
      "VSpd: -294.325 Real VSpd: 14.01\n",
      "GroundSpeed: 76.41\n",
      "VSpd: -400.255 Real VSpd: 630.55\n",
      "GroundSpeed: 73.4\n",
      "VSpd: -383.70000000000005 Real VSpd: 459.78\n",
      "GroundSpeed: 91.15\n",
      "VSpd: -481.32500000000005 Real VSpd: -87.53\n",
      "GroundSpeed: 105.26\n",
      "VSpd: -558.9300000000001 Real VSpd: -166.07\n",
      "GroundSpeed: 87.14\n",
      "VSpd: -459.27 Real VSpd: 46.56\n",
      "GroundSpeed: 67.88\n",
      "VSpd: -353.34 Real VSpd: -628.42\n",
      "GroundSpeed: 64.24\n",
      "VSpd: -333.32 Real VSpd: -355.26\n",
      "GroundSpeed: 71.63\n",
      "VSpd: -373.965 Real VSpd: 348.04\n",
      "GroundSpeed: 80.67\n",
      "VSpd: -423.685 Real VSpd: 651.09\n",
      "GroundSpeed: 80.51\n",
      "VSpd: -422.805 Real VSpd: 424.0\n",
      "GroundSpeed: 102.44\n",
      "VSpd: -543.42 Real VSpd: -16.97\n",
      "GroundSpeed: 105.2\n",
      "VSpd: -558.6 Real VSpd: 21.46\n",
      "GroundSpeed: 83.33\n",
      "VSpd: -438.315 Real VSpd: -23.45\n",
      "GroundSpeed: 68.11\n",
      "VSpd: -354.605 Real VSpd: -1013.97\n",
      "GroundSpeed: 59.25\n",
      "VSpd: -305.875 Real VSpd: -399.49\n",
      "GroundSpeed: 75.85\n",
      "VSpd: -397.17499999999995 Real VSpd: 422.59\n",
      "GroundSpeed: 78.3\n",
      "VSpd: -410.65 Real VSpd: 785.95\n",
      "GroundSpeed: 80.34\n",
      "VSpd: -421.87 Real VSpd: 368.96\n",
      "GroundSpeed: 100.9\n",
      "VSpd: -534.95 Real VSpd: -72.56\n",
      "GroundSpeed: 98.01\n",
      "VSpd: -519.0550000000001 Real VSpd: 134.45\n",
      "GroundSpeed: 79.43\n",
      "VSpd: -416.865 Real VSpd: -358.19\n",
      "GroundSpeed: 73.38\n",
      "VSpd: -383.59 Real VSpd: -1385.68\n",
      "GroundSpeed: 50.15\n",
      "VSpd: -255.825 Real VSpd: 94.9\n",
      "GroundSpeed: 71.79\n",
      "VSpd: -374.845 Real VSpd: 733.12\n",
      "GroundSpeed: 70.64\n",
      "VSpd: -368.52 Real VSpd: 855.45\n",
      "GroundSpeed: 89.53\n",
      "VSpd: -472.415 Real VSpd: 105.06\n",
      "GroundSpeed: 106.25\n",
      "VSpd: -564.375 Real VSpd: -47.88\n",
      "GroundSpeed: 88.83\n",
      "VSpd: -468.565 Real VSpd: -425.27\n",
      "GroundSpeed: 79.15\n",
      "VSpd: -415.32500000000005 Real VSpd: -315.02\n",
      "GroundSpeed: 73.13\n",
      "VSpd: -382.215 Real VSpd: -770.41\n",
      "GroundSpeed: 27.95\n",
      "VSpd: -133.72500000000002 Real VSpd: 8.15\n",
      "GroundSpeed: 10.69\n",
      "VSpd: -38.79499999999996 Real VSpd: 13.2\n",
      "GroundSpeed: 16.56\n",
      "VSpd: -71.08000000000004 Real VSpd: 15.59\n",
      "GroundSpeed: 18.06\n",
      "VSpd: -79.33000000000004 Real VSpd: -40.86\n",
      "GroundSpeed: 11.22\n",
      "VSpd: -41.710000000000036 Real VSpd: -3.63\n",
      "GroundSpeed: 7.11\n",
      "VSpd: -19.105000000000018 Real VSpd: -7.35\n"
     ]
    }
   ],
   "source": [
    "## Rating the Approach Phase:\n",
    "#print(len(df['  AltMSL']))\n",
    "interval=30\n",
    "Lintdd_VSpd=[]\n",
    "#Diff_VSpd=[]\n",
    "#Intdd_VSpd=[]\n",
    "first=2230\n",
    "for i in range (first, len(df['  AltMSL'])+1, interval):\n",
    "    print('GroundSpeed:',df[' GndSpd'][i])#,df['  AltMSL'][i])\n",
    "          \n",
    "    if 110<(df[' GndSpd'][i])<=130:\n",
    "        upper=130\n",
    "        lower=110\n",
    "        vs_up=690\n",
    "        vs_low=585\n",
    "        Intdd_VSpd=(-((((df[' GndSpd'][i])-lower)*(vs_up-vs_low)/(upper-lower))+vs_low))\n",
    "        #Diff_VSpd.append(abs(Intdd_VSpd[i]-df['    VSpd'][i]))\n",
    "        print('Intended VSpd:',Intdd_VSpd,'Real VSpd:', df['    VSpd'][i])\n",
    "    elif 90<(df[' GndSpd'][i])<=110:  \n",
    "        upper=110\n",
    "        lower=90\n",
    "        vs_up=585\n",
    "        vs_low=475\n",
    "        Intdd_VSpd=(-((((df[' GndSpd'][i])-lower)*(vs_up-vs_low)/(upper-lower))+vs_low))\n",
    "        print('VSpd:',Intdd_VSpd,'Real VSpd:', df['    VSpd'][i])\n",
    "    elif (df[' GndSpd'][i])<=90:\n",
    "        upper=110\n",
    "        lower=90\n",
    "        vs_up=585\n",
    "        vs_low=475\n",
    "        Intdd_VSpd=(-((((df[' GndSpd'][i])-lower)*(vs_up-vs_low)/(upper-lower))+vs_low))#*(-1)\n",
    "        #if (Intdd_VSpd>0):\n",
    "        print('VSpd:',Intdd_VSpd,'Real VSpd:', df['    VSpd'][i])\n",
    "        #else:\n",
    "          #  print('The Landing Phase Finished!')\n",
    "    Lintdd_VSpd.append(Intdd_VSpd)     \n",
    "    #Real_VSpd[i]=df['    VSpd'][i]          \n",
    "    #Diff_VSpd.append(abs(df['Intdd_VSpd'][i]-df['    VSpd'][i]))\n",
    "    #print('The Difference in VSpd is:',Diff_VSpd)\n",
    "        "
   ]
  },
  {
   "cell_type": "code",
   "execution_count": 27,
   "metadata": {},
   "outputs": [],
   "source": [
    "#print(Lintdd_VSpd)"
   ]
  },
  {
   "cell_type": "code",
   "execution_count": 28,
   "metadata": {},
   "outputs": [],
   "source": [
    "#carname=\"Swift\"\n",
    "#caryear=\"2000\"\n",
    "#carcolor=\"white\"\n",
    "#file = open(\"car.txt\", \"w\")\n",
    "#carname = repr(carname)\n",
    "#caryear = repr(caryear)\n",
    "#carcolor = repr(carcolor)\n",
    "#file.write(\"Car Name = \" + carname + \"\\n\" +\"Car Year = \"+caryear + \"\\n\"+\"Car color = \"+carcolor )\n",
    "#file.close"
   ]
  },
  {
   "cell_type": "code",
   "execution_count": 29,
   "metadata": {},
   "outputs": [
    {
     "name": "stdout",
     "output_type": "stream",
     "text": [
      "-0.07820754623823677\n"
     ]
    }
   ],
   "source": [
    "\n",
    "print(ConvertFPM(df['    VSpd'][0])) "
   ]
  },
  {
   "cell_type": "code",
   "execution_count": 30,
   "metadata": {},
   "outputs": [
    {
     "name": "stdout",
     "output_type": "stream",
     "text": [
      "\n",
      "Safety Issue: Diff_VSpd!\n",
      "2230 0.028149234962874633 289.54 -538.635\n",
      "\n",
      "Safety Issue: Diff_VSpd!\n",
      "2260 0.024352823618672668 -260.01 -559.865\n",
      "\n",
      "Safety Issue: Diff_VSpd!\n",
      "2290 0.006209093076172043 62.03 -522.575\n",
      "\n",
      "Safety Issue: Diff_VSpd!\n",
      "2320 0.016797371773412246 -174.46 -544.08\n",
      "\n",
      "Safety Issue: Diff_VSpd!\n",
      "2350 0.04708231210641756 -518.47 -578.0699999999999\n",
      "\n",
      "Safety Issue: Diff_VSpd!\n",
      "2380 0.01866927716698104 197.91 -555.74\n",
      "\n",
      "Safety Issue: Diff_VSpd!\n",
      "2410 0.010592940789921169 105.45 -520.65\n",
      "\n",
      "Safety Issue: Diff_VSpd!\n",
      "2440 9.20604089550125e-05 -0.95 -540.45\n",
      "\n",
      "Safety Issue: Diff_VSpd!\n",
      "2470 0.021380618096543656 -215.61 -527.6899999999999\n",
      "\n",
      "Safety Issue: Diff_VSpd!\n",
      "2500 0.018529511469271356 180.91 -510.255\n",
      "\n",
      "Safety Issue: Diff_VSpd!\n",
      "2530 0.027491160006228206 -292.71 -558.27\n",
      "\n",
      "Safety Issue: Diff_VSpd!\n",
      "2560 0.0928425925281403 860.29 -483.25\n",
      "\n",
      "Safety Issue: Diff_VSpd!\n",
      "2590 0.07013564697517105 666.86 -496.395\n",
      "\n",
      "Safety Issue: Diff_VSpd!\n",
      "2620 0.0070984098009142845 70.44 -518.9449999999999\n",
      "\n",
      "Safety Issue: Diff_VSpd!\n",
      "2650 0.00854752593902072 -93.0 -570.92\n",
      "\n",
      "Safety Issue: Diff_VSpd!\n",
      "2680 0.0014463641000127484 -16.44 -596.76\n",
      "\n",
      "Safety Issue: Diff_VSpd!\n",
      "2710 0.024929721772696686 -278.54 -586.7325\n",
      "\n",
      "Safety Issue: Diff_VSpd!\n",
      "2740 0.005213092230829834 -54.92 -552.165\n",
      "\n",
      "Safety Issue: Diff_VSpd!\n",
      "2770 0.008732848103436906 87.57 -524.61\n",
      "\n",
      "Safety Issue: Diff_VSpd!\n",
      "2800 0.007164877460821925 -71.31 -520.54\n",
      "\n",
      "Safety Issue: Diff_VSpd!\n",
      "2830 0.02556270603461429 -260.01 -532.42\n",
      "\n",
      "Safety Issue: Diff_VSpd!\n",
      "2860 0.010975079186302293 -118.09 -564.375\n",
      "\n",
      "Safety Issue: Diff_VSpd!\n",
      "2890 0.0576908523487489 616.07 -559.975\n",
      "\n",
      "Safety Issue: Diff_VSpd!\n",
      "2920 0.02223494653207829 227.04 -534.5649999999999\n",
      "\n",
      "---Absolute Danger!---\n",
      "2950 0.03512666162593059 -2.69 -379.7 -567.0699999999999\n",
      "\n",
      "Safety Issue: Diff_VSpd!\n",
      "3010 0.009720597511034922 -99.04 -533.355\n",
      "\n",
      "Safety Issue: Diff_VSpd!\n",
      "3040 0.03746499885206726 388.51 -543.2\n",
      "\n",
      "Safety Issue: Diff_VSpd!\n",
      "3070 0.06227216439353169 657.93 -553.8149999999999\n",
      "\n",
      "Safety Issue: Diff_VSpd!\n",
      "3100 0.053040564147778524 506.09 -498.21\n",
      "\n",
      "---Absolute Danger!---\n",
      "3130 0.02450639336581174 -2.7 -182.78 -385.07500000000005\n",
      "\n",
      "---Absolute Danger!---\n",
      "3160 0.15173774071692323 -5.78 -1032.31 -349.49\n",
      "\n",
      "Safety Issue: Diff_VSpd!\n",
      "3190 0.06578998258958131 -409.01 -317.645\n",
      "\n",
      "Safety Issue: Diff_VSpd!\n",
      "3220 0.032225856175112526 245.12 -393.105\n",
      "\n",
      "Safety Issue: Diff_VSpd!\n",
      "3250 0.10457009664927239 866.45 -430.01\n",
      "\n",
      "Safety Issue: Diff_VSpd!\n",
      "3280 0.03860332010501459 357.39 -482.81\n",
      "\n",
      "Safety Issue: Diff_VSpd!\n",
      "3310 0.0358628221463776 -367.61 -536.71\n",
      "\n",
      "Safety Issue: Diff_VSpd!\n",
      "3340 0.006942158782124898 70.64 -532.64\n",
      "\n",
      "Safety Issue: Diff_VSpd!\n",
      "3370 0.018384330035935113 -192.86 -549.745\n",
      "\n",
      "Safety Issue: Diff_VSpd!\n",
      "3400 0.011091221213714145 115.24 -544.3\n",
      "\n",
      "Safety Issue: Diff_VSpd!\n",
      "3430 0.03244150292346905 -249.06 -396.95500000000004\n",
      "\n",
      "---Absolute Danger!---\n",
      "3460 0.06155376642499701 -3.07 -402.06 -334.75\n",
      "\n",
      "---Absolute Danger!---\n",
      "3490 0.07993182013014581 -5.5 -575.77 -371.215\n",
      "\n",
      "---Absolute Danger!---\n",
      "3520 0.06626773640311033 -4.21 -471.17 -366.155\n",
      "\n",
      "Safety Issue: Diff_VSpd!\n",
      "3550 0.002420724574700852 14.01 -294.325\n",
      "\n",
      "Safety Issue: Diff_VSpd!\n",
      "3580 0.0814878405183232 630.55 -400.255\n",
      "\n",
      "Safety Issue: Diff_VSpd!\n",
      "3610 0.06185538217566761 459.78 -383.70000000000005\n",
      "\n",
      "Safety Issue: Diff_VSpd!\n",
      "3640 0.009482519271476232 -87.53 -481.32500000000005\n",
      "\n",
      "Safety Issue: Diff_VSpd!\n",
      "3670 0.015579420467960984 -166.07 -558.9300000000001\n",
      "\n",
      "Safety Issue: Diff_VSpd!\n",
      "3700 0.0052761713892023054 46.56 -459.27\n",
      "\n",
      "Safety Issue: Diff_VSpd!\n",
      "3730 0.0914179847365686 -628.42 -353.34\n",
      "\n",
      "Safety Issue: Diff_VSpd!\n",
      "3760 0.054609004263910896 -355.26 -333.32\n",
      "\n",
      "Safety Issue: Diff_VSpd!\n",
      "3790 0.04797971758763809 348.04 -373.965\n",
      "\n",
      "Safety Issue: Diff_VSpd!\n",
      "3820 0.07969892190820688 651.09 -423.685\n",
      "\n",
      "Safety Issue: Diff_VSpd!\n",
      "3850 0.052004330356434154 424.0 -422.805\n",
      "\n",
      "Safety Issue: Diff_VSpd!\n",
      "3880 0.0016358208940030897 -16.97 -543.42\n",
      "\n",
      "Safety Issue: Diff_VSpd!\n",
      "3910 0.0020143617043444917 21.46 -558.6\n",
      "\n",
      "Safety Issue: Diff_VSpd!\n",
      "3940 0.0027788489710598306 -23.45 -438.315\n",
      "\n",
      "---Absolute Danger!---\n",
      "3970 0.14700689477951023 -10.27 -1013.97 -354.605\n",
      "\n",
      "Safety Issue: Diff_VSpd!\n",
      "4000 0.06657957773241531 -399.49 -305.875\n",
      "\n",
      "Safety Issue: Diff_VSpd!\n",
      "4030 0.05501575904865477 422.59 -397.17499999999995\n",
      "\n",
      "Safety Issue: Diff_VSpd!\n",
      "4060 0.09911893675894029 785.95 -410.65\n",
      "\n",
      "Safety Issue: Diff_VSpd!\n",
      "4090 0.045349336437658636 368.96 -421.87\n",
      "\n",
      "Safety Issue: Diff_VSpd!\n",
      "4120 0.007101164713345621 -72.56 -534.95\n",
      "\n",
      "Safety Issue: Diff_VSpd!\n",
      "4150 0.013546088102392837 134.45 -519.0550000000001\n",
      "\n",
      "Safety Issue: Diff_VSpd!\n",
      "4180 0.044529966966457384 -358.19 -416.865\n",
      "\n",
      "---Absolute Danger!---\n",
      "4210 0.1864698922163168 -7.26 -1385.68 -383.59\n",
      "\n",
      "Safety Issue: Diff_VSpd!\n",
      "4240 0.018686103653707237 94.9 -255.825\n",
      "\n",
      "Safety Issue: Diff_VSpd!\n",
      "4270 0.10084040766027762 733.12 -374.845\n",
      "\n",
      "Safety Issue: Diff_VSpd!\n",
      "4300 0.1195824421835492 855.45 -368.52\n",
      "\n",
      "Safety Issue: Diff_VSpd!\n",
      "4330 0.011587567859694276 105.06 -472.415\n",
      "\n",
      "Safety Issue: Diff_VSpd!\n",
      "4360 0.004449883914303954 -47.88 -564.375\n",
      "\n",
      "Safety Issue: Diff_VSpd!\n",
      "4390 0.04727467627521266 -425.27 -468.565\n",
      "\n",
      "Safety Issue: Diff_VSpd!\n",
      "4420 0.0393016412003314 -315.02 -415.32500000000005\n",
      "\n",
      "---Absolute Danger!---\n",
      "4450 0.104027896387297 -3.02 -770.41 -382.215\n",
      "\n",
      "Safety Issue: Diff_VSpd!\n",
      "4480 0.0028793819313060374 8.15 -133.72500000000002\n",
      "\n",
      "Safety Issue: Diff_VSpd!\n",
      "4510 0.012193256351455687 13.2 -38.79499999999996\n",
      "\n",
      "Safety Issue: Diff_VSpd!\n",
      "4540 0.009296281396804025 15.59 -71.08000000000004\n",
      "\n",
      "Safety Issue: Diff_VSpd!\n",
      "4570 0.022341076457364023 -40.86 -79.33000000000004\n",
      "\n",
      "Safety Issue: Diff_VSpd!\n",
      "4600 0.0031947527058103255 -3.63 -41.710000000000036\n",
      "\n",
      "Safety Issue: Diff_VSpd!\n",
      "4630 0.01020801305692367 -7.35 -19.105000000000018\n"
     ]
    }
   ],
   "source": [
    "Ldiff_VSpd=[]\n",
    "Ltan_VSpd=[]\n",
    "Latan_VSpd=[]\n",
    "\n",
    "\n",
    "\n",
    "\n",
    "\n",
    "#f=open(\"Safety_Performance_1.txt\",\"a\")\n",
    "for i in range (0, len(Lintdd_VSpd)):\n",
    "\n",
    "    Diff_VSpd=(abs(Lintdd_VSpd[i]-df['    VSpd'][first+interval*(i)]))/abs(Lintdd_VSpd[i])\n",
    "    tan_VSpd=abs(ConvertFPM(df['    VSpd'][first+interval*(i)])/df[' GndSpd'][first+interval*(i)])\n",
    "    #Velang=\n",
    "    #print(ConvertFPM(df['    VSpd'][first+interval*(i)]))             \n",
    "    Arktan=Atan((ConvertFPM(df['    VSpd'][first+interval*(i)]))/(df[' GndSpd'][first+interval*(i)]))\n",
    "    #print(i,Lintdd_VSpd[i],df['    VSpd'][first+interval*(i)],df['  Pitch'][first+interval*(i)])\n",
    "    Ldiff_VSpd.append(Diff_VSpd)\n",
    "    Ltan_VSpd.append(tan_VSpd)\n",
    "    Latan_VSpd.append(Arktan)\n",
    "    if (tan_VSpd<Tan(2.5) or tan_VSpd>Tan(3.5)) and df['  Pitch'][first+interval*(i)]<-2.5:\n",
    "        print()\n",
    "        print(\"---Absolute Danger!---\")\n",
    "        print(first+interval*(i),Ltan_VSpd[i],df['  Pitch'][first+interval*(i)],df['    VSpd'][first+interval*(i)],(Lintdd_VSpd[i]))\n",
    "        \n",
    "       #                             \n",
    "        \n",
    "        #,first+interval*(i),Ldiff_VSpd[i],df['  Pitch'][first+interval*(i)])\n",
    "    \n",
    "        #File.append((\"---Absolute Danger!---\"))\n",
    "        #BB=File.append()\n",
    "    elif tan_VSpd<Tan(2.5) or Diff_VSpd>Tan(3.5):\n",
    "        print()\n",
    "        print('Safety Issue: Diff_VSpd!')\n",
    "        print(first+interval*(i),Ltan_VSpd[i],df['    VSpd'][first+interval*(i)],(Lintdd_VSpd[i]))#print(i,Lintdd_VSpd[i],df['    VSpd'][first+interval*(i)],df['  Pitch'][first+interval*(i)])\n",
    "        \n",
    "    elif df['  Pitch'][first+interval*(i)]<-2.5:\n",
    "        print()\n",
    "        print('Safety Issue: Pitch Angle!')\n",
    "        #print(i,Lintdd_VSpd[i],df['    VSpd'][first+interval*(i)],df['  Pitch'][first+interval*(i)])\n",
    "        print(first+interval*(i),df['  Pitch'][first+interval*(i)])\n",
    "    #f.write(\"---Absolute Danger!---\\n\"+first+interval*(i),Ldiff_VSpd[i],df['  Pitch'][first+interval*(i)]+\"\\n\")\n",
    "#f.close() \n",
    "  \n",
    "    #print(Diff_VSpd)"
   ]
  },
  {
   "cell_type": "code",
   "execution_count": 31,
   "metadata": {},
   "outputs": [],
   "source": [
    "#print(Ldiff_VSpd)"
   ]
  },
  {
   "cell_type": "code",
   "execution_count": 32,
   "metadata": {},
   "outputs": [],
   "source": [
    "#import matplotlib.pylab as plt\n",
    "#plt.figure(figsize=(15,8)) \n",
    "#plt.plot(Ldiff_VSpd)"
   ]
  },
  {
   "cell_type": "code",
   "execution_count": 33,
   "metadata": {},
   "outputs": [
    {
     "name": "stdout",
     "output_type": "stream",
     "text": [
      "[0.028149234962874633, 0.024352823618672668, 0.006209093076172043, 0.016797371773412246, 0.04708231210641756, 0.01866927716698104, 0.010592940789921169, 9.20604089550125e-05, 0.021380618096543656, 0.018529511469271356, 0.027491160006228206, 0.0928425925281403, 0.07013564697517105, 0.0070984098009142845, 0.00854752593902072, 0.0014463641000127484, 0.024929721772696686, 0.005213092230829834, 0.008732848103436906, 0.007164877460821925, 0.02556270603461429, 0.010975079186302293, 0.0576908523487489, 0.02223494653207829, 0.03512666162593059, 0.04986044739316892, 0.009720597511034922, 0.03746499885206726, 0.06227216439353169, 0.053040564147778524, 0.02450639336581174, 0.15173774071692323, 0.06578998258958131, 0.032225856175112526, 0.10457009664927239, 0.03860332010501459, 0.0358628221463776, 0.006942158782124898, 0.018384330035935113, 0.011091221213714145, 0.03244150292346905, 0.06155376642499701, 0.07993182013014581, 0.06626773640311033, 0.002420724574700852, 0.0814878405183232, 0.06185538217566761, 0.009482519271476232, 0.015579420467960984, 0.0052761713892023054, 0.0914179847365686, 0.054609004263910896, 0.04797971758763809, 0.07969892190820688, 0.052004330356434154, 0.0016358208940030897, 0.0020143617043444917, 0.0027788489710598306, 0.14700689477951023, 0.06657957773241531, 0.05501575904865477, 0.09911893675894029, 0.045349336437658636, 0.007101164713345621, 0.013546088102392837, 0.044529966966457384, 0.1864698922163168, 0.018686103653707237, 0.10084040766027762, 0.1195824421835492, 0.011587567859694276, 0.004449883914303954, 0.04727467627521266, 0.0393016412003314, 0.104027896387297, 0.0028793819313060374, 0.012193256351455687, 0.009296281396804025, 0.022341076457364023, 0.0031947527058103255, 0.01020801305692367]\n"
     ]
    }
   ],
   "source": [
    "print(Ltan_VSpd)\n"
   ]
  },
  {
   "cell_type": "code",
   "execution_count": 44,
   "metadata": {},
   "outputs": [
    {
     "data": {
      "image/png": "[encoded data removed]",
      "text/plain": [
       "<Figure size 720x576 with 1 Axes>"
      ]
     },
     "metadata": {
      "needs_background": "light"
     },
     "output_type": "display_data"
    }
   ],
   "source": [
    "#courses = list(data.keys())\n",
    "#values = list(data.values())\n",
    "  \n",
    "fig = plt.figure(figsize = (10, 8))\n",
    " \n",
    "# creating the bar plot\n",
    "plt.bar(range(0,len((Ltan_VSpd)),1),Ltan_VSpd, color ='orange',width = 0.5)\n",
    " \n",
    "plt.xlabel(\"Selected Time in the Landing Phase (sec)\")\n",
    "plt.ylabel(\"GLide Slope\")\n",
    "plt.title(\"Glide Slope as Compared with the Desired Range\")\n",
    "plt.hlines(Tan(2.5), -0.5, len((Ltan_VSpd))-0.5, 'black')\n",
    "plt.hlines(Tan(3.5), -0.5, len((Ltan_VSpd))-0.5, 'blue')\n",
    "plt.savefig('GLideSlope.jpg')\n",
    "plt.show()"
   ]
  },
  {
   "cell_type": "code",
   "execution_count": 60,
   "metadata": {},
   "outputs": [
    {
     "data": {
      "image/png": "[encoded data removed]",
      "text/plain": [
       "<Figure size 720x360 with 1 Axes>"
      ]
     },
     "metadata": {
      "needs_background": "light"
     },
     "output_type": "display_data"
    }
   ],
   "source": [
    "#courses = list(data.keys())\n",
    "#values = list(data.values())\n",
    "  \n",
    "fig = plt.figure(figsize = (10, 5))\n",
    " \n",
    "# creating the bar plot\n",
    "plt.bar(range(0,len((Latan_VSpd)),1),Latan_VSpd, color ='orange',width = 0.5)\n",
    " \n",
    "plt.xlabel(\"Selected Time in the Landing Phase (sec)\")\n",
    "plt.ylabel(\"GLide Angle\")\n",
    "plt.title(\"Glide Angle as Compared to the Desired Range (3+/-0.5deg)\")\n",
    "plt.hlines((2.5), -0.5, len((Latan_VSpd))-0.5, 'black')\n",
    "plt.hlines((3.5), -0.5, len((Latan_VSpd))-0.5, 'blue')\n",
    "plt.savefig('GLideAngle.jpg')\n",
    "plt.show()"
   ]
  },
  {
   "cell_type": "code",
   "execution_count": 61,
   "metadata": {},
   "outputs": [],
   "source": [
    "#plt.hlines(0.04, 0, 15, 'black')\n",
    "\n",
    "\n",
    "#print(len(Ltan_VSpd))\n",
    "\n"
   ]
  },
  {
   "cell_type": "code",
   "execution_count": 62,
   "metadata": {},
   "outputs": [
    {
     "data": {
      "image/png": "[encoded data removed]",
      "text/plain": [
       "<Figure size 720x360 with 1 Axes>"
      ]
     },
     "metadata": {
      "needs_background": "light"
     },
     "output_type": "display_data"
    },
    {
     "name": "stdout",
     "output_type": "stream",
     "text": [
      "[0.028149234962874633, 0.024352823618672668, 0.006209093076172043, 0.016797371773412246, 0.04708231210641756, 0.01866927716698104, 0.010592940789921169, 9.20604089550125e-05, 0.021380618096543656, 0.018529511469271356, 0.027491160006228206, 0.0928425925281403, 0.07013564697517105, 0.0070984098009142845, 0.00854752593902072, 0.0014463641000127484, 0.024929721772696686, 0.005213092230829834, 0.008732848103436906, 0.007164877460821925, 0.02556270603461429, 0.010975079186302293, 0.0576908523487489, 0.02223494653207829, 0.03512666162593059, 0.04986044739316892, 0.009720597511034922, 0.03746499885206726, 0.06227216439353169, 0.053040564147778524, 0.02450639336581174, 0.15173774071692323, 0.06578998258958131, 0.032225856175112526, 0.10457009664927239, 0.03860332010501459, 0.0358628221463776, 0.006942158782124898, 0.018384330035935113, 0.011091221213714145, 0.03244150292346905, 0.06155376642499701, 0.07993182013014581, 0.06626773640311033, 0.002420724574700852, 0.0814878405183232, 0.06185538217566761, 0.009482519271476232, 0.015579420467960984, 0.0052761713892023054, 0.0914179847365686, 0.054609004263910896, 0.04797971758763809, 0.07969892190820688, 0.052004330356434154, 0.0016358208940030897, 0.0020143617043444917, 0.0027788489710598306, 0.14700689477951023, 0.06657957773241531, 0.05501575904865477, 0.09911893675894029, 0.045349336437658636, 0.007101164713345621, 0.013546088102392837, 0.044529966966457384, 0.1864698922163168, 0.018686103653707237, 0.10084040766027762, 0.1195824421835492, 0.011587567859694276, 0.004449883914303954, 0.04727467627521266, 0.0393016412003314, 0.104027896387297, 0.0028793819313060374, 0.012193256351455687, 0.009296281396804025, 0.022341076457364023, 0.0031947527058103255]\n"
     ]
    }
   ],
   "source": [
    "### Omitting the Outlier:\n",
    "Omit_VSpd=[]\n",
    "\n",
    "for i in range (0, (len(Ltan_VSpd)-1)):\n",
    "    Omit_VSpd_q=Ltan_VSpd[i]\n",
    "    Omit_VSpd.append(Omit_VSpd_q)\n",
    "# fig = plt.figure(figsize = (10, 5))\n",
    " \n",
    " \n",
    "# creating the bar plot\n",
    "\n",
    "fig = plt.figure(figsize = (10, 5))\n",
    "plt.bar(range(0,len((Omit_VSpd)),1),Omit_VSpd, color ='orange',width = 0.5)\n",
    " \n",
    "plt.xlabel(\"Selected Time in the Landing Phase (sec)\")\n",
    "plt.ylabel(\"GLide Slope\")\n",
    "plt.title(\"Glide Slope as Compared with the Desired Range\")\n",
    "plt.hlines(Tan(2.5), -0.5, len((Omit_VSpd))-0.5, 'black')\n",
    "plt.hlines(Tan(3.5), -0.5, len((Omit_VSpd))-0.5, 'blue')\n",
    "plt.savefig('GLideSlope_ommited_1.jpg')\n",
    "plt.show()    \n",
    "print(Omit_VSpd)   "
   ]
  },
  {
   "cell_type": "code",
   "execution_count": 63,
   "metadata": {},
   "outputs": [
    {
     "name": "stdout",
     "output_type": "stream",
     "text": [
      "[3.57, -0.32, 2.8, 3.69, 2.78, 1.02, 1.15, 0.75, 2.89, -0.49, 2.67, 8.12, 10.04, 5.37, 1.12, -0.12, -0.99, 2.98, 2.24, 2.58, 2.07, -0.15, 0.1, 1.75, -2.69, -1.48, 3.12, 1.92, 4.01, -2.21, -2.7, -5.78, 0.2, 5.98, 9.82, 7.58, 0.38, 4.38, 2.52, -0.78, -2.44, -3.07, -5.5, -4.21, 6.68, 5.95, 8.8, 4.22, 1.74, 4.19, -0.38, -0.42, 7.92, 6.1, 9.38, 3.15, 1.64, -0.13, -10.27, 1.38, 5.9, 9.07, 6.99, 3.88, 2.94, -1.46, -7.26, 1.7, 8.93, 8.87, 4.17, 2.33, 2.29, 0.34, -3.02, 0.14, 0.69, 0.71, 1.41, 2.52, 1.26]\n",
      "[-538.635, -559.865, -522.575, -544.08, -578.0699999999999, -555.74, -520.65, -540.45, -527.6899999999999, -510.255, -558.27, -483.25, -496.395, -518.9449999999999, -570.92, -596.76, -586.7325, -552.165, -524.61, -520.54, -532.42, -564.375, -559.975, -534.5649999999999, -567.0699999999999, -564.375, -533.355, -543.2, -553.8149999999999, -498.21, -385.07500000000005, -349.49, -317.645, -393.105, -430.01, -482.81, -536.71, -532.64, -549.745, -544.3, -396.95500000000004, -334.75, -371.215, -366.155, -294.325, -400.255, -383.70000000000005, -481.32500000000005, -558.9300000000001, -459.27, -353.34, -333.32, -373.965, -423.685, -422.805, -543.42, -558.6, -438.315, -354.605, -305.875, -397.17499999999995, -410.65, -421.87, -534.95, -519.0550000000001, -416.865, -383.59, -255.825, -374.845, -368.52, -472.415, -564.375, -468.565, -415.32500000000005, -382.215, -133.72500000000002, -38.79499999999996, -71.08000000000004, -79.33000000000004, -41.710000000000036, -19.105000000000018]\n"
     ]
    }
   ],
   "source": [
    "Lpitch=[]\n",
    "LrealVSpd=[]\n",
    "for i in range (0, len(Lintdd_VSpd)):\n",
    "    Lpitch.append(df['  Pitch'][first+interval*(i)]) #*100 for bar plot\n",
    "    LrealVSpd.append(df['    VSpd'][first+interval*(i)])\n",
    "    #print(i,Lintdd_VSpd[i],df['    VSpd'][first+interval*(i)],df['  Pitch'][first+interval*(i)])\n",
    "    #Ldiff_VSpd.append(Diff_VSpd)\n",
    "    #if df['  Pitch'][first+interval*(i)]<-2.5:\n",
    "        #print('Safety Issue!')\n",
    "       # print(i,Lintdd_VSpd[i],df['    VSpd'][first+interval*(i)],df['  Pitch'][first+interval*(i)])\n",
    "print(Lpitch)\n",
    "#Lintdd_VSpd_1=Lintdd_VSpd*-1\n",
    "print(Lintdd_VSpd)"
   ]
  },
  {
   "cell_type": "code",
   "execution_count": 64,
   "metadata": {},
   "outputs": [
    {
     "data": {
      "image/png": "[encoded data removed]",
      "text/plain": [
       "<Figure size 864x576 with 1 Axes>"
      ]
     },
     "metadata": {
      "needs_background": "light"
     },
     "output_type": "display_data"
    }
   ],
   "source": [
    "import numpy as np\n",
    "import matplotlib.pyplot as plt\n",
    " \n",
    "# set width of bar\n",
    "barWidth = 0.5\n",
    "fig = plt.subplots(figsize =(12, 8))\n",
    " \n",
    "# set height of bar\n",
    "#IT = [12, 30, 1, 8, 22]\n",
    "#ECE = [28, 6, 16, 5, 10]\n",
    "#CSE = [29, 3, 24, 25, 17]\n",
    "# Latan_VSpd\n",
    "# Set position of bar on X axis\n",
    "br1 = np.arange((len((Latan_VSpd))))\n",
    "br2 = [x + barWidth for x in br1]\n",
    "#br3 = [x + barWidth for x in br2]\n",
    " \n",
    "# Make the plot\n",
    "plt.bar(br1,Latan_VSpd, color ='r', width = barWidth,\n",
    "        edgecolor ='grey', label ='Glide Angle')\n",
    "plt.bar(br2,Lpitch, color ='g', width = barWidth, edgecolor ='grey', label ='Pitch Angle')\n",
    "#plt.bar(br3, CSE, color ='b', width = barWidth,\n",
    "#        edgecolor ='grey', label ='CSE')\n",
    " \n",
    "# Adding Xticks\n",
    "plt.xlabel('Selected Time in the Landing Phase (sec)', fontweight ='bold', fontsize = 15)\n",
    "plt.ylabel('Safety and Performance Rating Factors', fontweight ='bold', fontsize = 15)\n",
    "plt.xticks([r + barWidth for r in range(len(Latan_VSpd))])\n",
    "\n",
    "\n",
    " \n",
    "plt.legend()\n",
    "plt.hlines(-2.5, -0.5, len((Latan_VSpd))-0.5, 'green')\n",
    "plt.hlines(2.5, -0.5, len((Latan_VSpd))-0.5, 'red')\n",
    "plt.hlines(3.5, -0.5, len((Latan_VSpd))-0.5, 'red')\n",
    "plt.hlines(+10, -0.5, len((Latan_VSpd))-0.5, 'green')\n",
    "\n",
    "plt.savefig('Safety_Performance_1.jpg')"
   ]
  },
  {
   "cell_type": "code",
   "execution_count": 65,
   "metadata": {},
   "outputs": [
    {
     "name": "stdout",
     "output_type": "stream",
     "text": [
      "81\n"
     ]
    }
   ],
   "source": [
    "print(len(Ltan_VSpd))"
   ]
  },
  {
   "cell_type": "code",
   "execution_count": 66,
   "metadata": {},
   "outputs": [
    {
     "name": "stdout",
     "output_type": "stream",
     "text": [
      "[3.57, -0.32, 2.8, 3.69, 2.78, 1.02, 1.15, 0.75, 2.89, -0.49, 2.67, 8.12, 10.04, 5.37, 1.12, -0.12, -0.99, 2.98, 2.24, 2.58, 2.07, -0.15, 0.1, 1.75, -2.69, -1.48, 3.12, 1.92, 4.01, -2.21, -2.7, -5.78, 0.2, 5.98, 9.82, 7.58, 0.38, 4.38, 2.52, -0.78, -2.44, -3.07, -5.5, -4.21, 6.68, 5.95, 8.8, 4.22, 1.74, 4.19, -0.38, -0.42, 7.92, 6.1, 9.38, 3.15, 1.64, -0.13, -10.27, 1.38, 5.9, 9.07, 6.99, 3.88, 2.94, -1.46, -7.26, 1.7, 8.93, 8.87, 4.17, 2.33, 2.29, 0.34, -3.02, 0.14, 0.69, 0.71, 1.41, 2.52]\n"
     ]
    }
   ],
   "source": [
    "### Omitting the Outlier:\n",
    "Omit_Pitch=[]\n",
    "\n",
    "for i in range (0, (len(Ltan_VSpd)-1)):\n",
    "    Omit_Pitch_q=Lpitch[i]\n",
    "    Omit_Pitch.append(Omit_Pitch_q) \n",
    "\n",
    "\n",
    "print((Omit_Pitch))"
   ]
  },
  {
   "cell_type": "code",
   "execution_count": 67,
   "metadata": {},
   "outputs": [
    {
     "data": {
      "image/png": "[encoded data removed]",
      "text/plain": [
       "<Figure size 864x576 with 1 Axes>"
      ]
     },
     "metadata": {
      "needs_background": "light"
     },
     "output_type": "display_data"
    }
   ],
   "source": [
    "# set width of bar\n",
    "barWidth = 0.5\n",
    "fig = plt.subplots(figsize =(12, 8))\n",
    " \n",
    "# Set position of bar on X axis\n",
    "br1 = np.arange(len((Omit_VSpd)))\n",
    "br2 = [x + barWidth for x in br1]\n",
    "\n",
    "# Make the plot\n",
    "plt.bar(br1,Omit_VSpd, color ='r', width = barWidth,\n",
    "        edgecolor ='grey', label ='Glide Slope')\n",
    "plt.bar(br2,Omit_Pitch, color ='g', width = barWidth, edgecolor ='grey', label ='Pitch Angle')\n",
    "\n",
    "# Adding Xticks\n",
    "plt.xlabel('Selected Time in the Landing Phase (sec)', fontweight ='bold', fontsize = 15)\n",
    "plt.ylabel('Safety and Performance Rating Factors', fontweight ='bold', fontsize = 15)\n",
    "plt.xticks([r + barWidth for r in range(len(Omit_VSpd))])\n",
    "\n",
    "\n",
    "  \n",
    "plt.legend()\n",
    "plt.hlines(-2.5, -0.5, len((Omit_VSpd))-0.5, 'blue')\n",
    "\n",
    "plt.savefig('Safety_Performance_ommited_1.jpg')"
   ]
  },
  {
   "cell_type": "code",
   "execution_count": 68,
   "metadata": {},
   "outputs": [
    {
     "data": {
      "image/png": "[encoded data removed]",
      "text/plain": [
       "<Figure size 1080x720 with 1 Axes>"
      ]
     },
     "metadata": {
      "needs_background": "light"
     },
     "output_type": "display_data"
    }
   ],
   "source": [
    "import numpy as np\n",
    "import matplotlib.pyplot as plt\n",
    " \n",
    "# set width of bar\n",
    "barWidth = 0.3\n",
    "fig = plt.subplots(figsize =(15, 10))\n",
    "\n",
    " \n",
    "# Set position of bar on X axis\n",
    "br1 = np.arange(len(Lintdd_VSpd))\n",
    "br2 = [x + barWidth for x in br1]\n",
    "#br3 = [x + barWidth for x in br2]\n",
    "#Lintdd_VSpd_1=Lintdd_VSpd*-1\n",
    "#LrealVSpd_1=LrealVSpd*-1\n",
    "# Make the plot\n",
    "plt.bar(br1,Lintdd_VSpd, color ='r', width = barWidth,\n",
    "        edgecolor ='grey', label ='Intended VSpd')\n",
    "plt.bar(br2,LrealVSpd, color ='g', width = barWidth, edgecolor ='grey', label ='Real VSpd')\n",
    "#plt.bar(br3, CSE, color ='b', width = barWidth,\n",
    "#        edgecolor ='grey', label ='CSE')\n",
    " \n",
    "# Adding Xticks\n",
    "plt.xlabel('Selected Time in the Landing Phase (sec)', fontweight ='bold', fontsize = 15)\n",
    "plt.ylabel('Difference between Intended and Real Vertical Speed (fpm)', fontweight ='bold', fontsize = 15)\n",
    "plt.xticks([r + barWidth for r in range(len(Lintdd_VSpd))])\n",
    " \n",
    "plt.legend()\n",
    "\n",
    "\n",
    "plt.savefig('VSpds_1.jpg')"
   ]
  },
  {
   "cell_type": "code",
   "execution_count": null,
   "metadata": {},
   "outputs": [],
   "source": []
  },
  {
   "cell_type": "code",
   "execution_count": null,
   "metadata": {},
   "outputs": [],
   "source": []
  },
  {
   "cell_type": "code",
   "execution_count": null,
   "metadata": {},
   "outputs": [],
   "source": []
  }
 ],
 "metadata": {
  "kernelspec": {
   "display_name": "Python 3",
   "language": "python",
   "name": "python3"
  },
  "language_info": {
   "codemirror_mode": {
    "name": "ipython",
    "version": 3
   },
   "file_extension": ".py",
   "mimetype": "text/x-python",
   "name": "python",
   "nbconvert_exporter": "python",
   "pygments_lexer": "ipython3",
   "version": "3.8.5"
  }
 },
 "nbformat": 4,
 "nbformat_minor": 5
}
